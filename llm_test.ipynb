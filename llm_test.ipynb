{
 "cells": [
  {
   "cell_type": "code",
   "execution_count": 1,
   "metadata": {},
   "outputs": [
    {
     "data": {
      "text/plain": [
       "'Okay!  Here\\'s a breakdown of LangChain in a step-by-step approach: \\n\\n**1. The Need:** Imagine you\\'re building an AI assistant, chatbot, or any application that uses large language models (LLMs). LLMs are fantastic at understanding and generating human-like text.  But they often have limitations:\\n    * **No real memory:** LLMs don\\'t remember past conversations. \\n    * **Limited access to external data:** They can only use the information provided during their training.\\n    * **Need for complex interactions:**  Imagine a chatbot that needs to search the web, interact with other apps, or retrieve information from files — this requires more than just text processing.\\n\\n**2. LangChain: The Solution!** LangChain provides tools and structures to help developers overcome these limitations and create sophisticated applications. \\n   * **Chains:** Think of it like a set of instructions you give to the LLM (your chatbot). You tell it what to do step-by-step, from finding information to writing responses. This makes interactions more human-like, even when working with LLMs.\\n\\n**3. Key Components in LangChain:**\\n    * **LLMs:**  LangChain integrates with many leading LLMs like OpenAI\\'s GPT models or Google\\'s PaLM. \\n    * **Prompt Templates:** Provide guidance on how to ask the LLM questions. Think of them as templates for \"what should I say next?\" when talking to your AI.\\n    * **Memory & State Management:**  LangChain helps keep track of what happened in previous turns of conversation, allowing your application to remember and build context.\\n    * **Agents:** These can interact with other systems or applications (like web searches) to expand the LLM\\'s capabilities.\\n\\n**4. Real-World Examples:** LangChain opens up a world of possibilities! Here are some examples: \\n    * **Chatbots that answer complex questions:** LangChain helps your chatbot access external knowledge bases or documents, building on its understanding from the initial query. \\n    * **Research assistants:** LangChain can help you search scientific journals or patents to find relevant information based on a prompt.\\n    * **Creative writing tools:**  LangChain can guide an LLM through different stages of writing: brainstorming, outlining, and drafting.\\n\\n\\n**5. Summary:** LangChain is the bridge between powerful LLMs and real-world applications. It gives you control over how your application uses those models to achieve complex tasks and create interactive experiences. \\n\\nDoes that make sense? Let me know if you have any other questions!  '"
      ]
     },
     "execution_count": 1,
     "metadata": {},
     "output_type": "execute_result"
    }
   ],
   "source": [
    "from langchain_core.prompts import ChatPromptTemplate\n",
    "from langchain_ollama.llms import OllamaLLM\n",
    "\n",
    "template = \"\"\"Question: {question}\n",
    "\n",
    "Answer: Let's think step by step.\"\"\"\n",
    "\n",
    "prompt = ChatPromptTemplate.from_template(template)\n",
    "\n",
    "model = OllamaLLM(model=\"gemma2:2b\")\n",
    "\n",
    "chain = prompt | model\n",
    "\n",
    "chain.invoke({\"question\": \"What is LangChain?\"})"
   ]
  }
 ],
 "metadata": {
  "kernelspec": {
   "display_name": "venv",
   "language": "python",
   "name": "python3"
  },
  "language_info": {
   "codemirror_mode": {
    "name": "ipython",
    "version": 3
   },
   "file_extension": ".py",
   "mimetype": "text/x-python",
   "name": "python",
   "nbconvert_exporter": "python",
   "pygments_lexer": "ipython3",
   "version": "3.12.6"
  }
 },
 "nbformat": 4,
 "nbformat_minor": 2
}
